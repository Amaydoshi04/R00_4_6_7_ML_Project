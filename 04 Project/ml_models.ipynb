{
 "cells": [
  {
   "cell_type": "code",
   "execution_count": 10,
   "metadata": {},
   "outputs": [],
   "source": [
    "import os\n",
    "import sys\n",
    "os.chdir(sys.path[0])\n",
    "os.getcwd() \n",
    "import warnings\n",
    "warnings.filterwarnings('ignore')\n",
    "import numpy as np\n",
    "import pandas as pd\n",
    "import matplotlib.pyplot as plt\n",
    "import seaborn as sns\n",
    "import plotly.express as px"
   ]
  },
  {
   "cell_type": "code",
   "execution_count": 57,
   "metadata": {},
   "outputs": [
    {
     "data": {
      "text/plain": [
       "(374, 13)"
      ]
     },
     "execution_count": 57,
     "metadata": {},
     "output_type": "execute_result"
    }
   ],
   "source": [
    "og = pd.read_csv('Sleep_health_and_lifestyle_dataset.csv')\n",
    "og.shape"
   ]
  },
  {
   "cell_type": "code",
   "execution_count": 55,
   "metadata": {},
   "outputs": [
    {
     "data": {
      "text/html": [
       "<div>\n",
       "<style scoped>\n",
       "    .dataframe tbody tr th:only-of-type {\n",
       "        vertical-align: middle;\n",
       "    }\n",
       "\n",
       "    .dataframe tbody tr th {\n",
       "        vertical-align: top;\n",
       "    }\n",
       "\n",
       "    .dataframe thead th {\n",
       "        text-align: right;\n",
       "    }\n",
       "</style>\n",
       "<table border=\"1\" class=\"dataframe\">\n",
       "  <thead>\n",
       "    <tr style=\"text-align: right;\">\n",
       "      <th></th>\n",
       "      <th>Gender</th>\n",
       "      <th>Age</th>\n",
       "      <th>Occupation</th>\n",
       "      <th>Sleep Duration</th>\n",
       "      <th>Quality of Sleep</th>\n",
       "      <th>Physical Activity Level</th>\n",
       "      <th>Stress Level</th>\n",
       "      <th>BMI Category</th>\n",
       "      <th>Heart Rate</th>\n",
       "      <th>Daily Steps</th>\n",
       "      <th>Systolic Pressure</th>\n",
       "      <th>Diastolic Pressure</th>\n",
       "      <th>Sleep Disorder</th>\n",
       "    </tr>\n",
       "  </thead>\n",
       "  <tbody>\n",
       "    <tr>\n",
       "      <th>0</th>\n",
       "      <td>1</td>\n",
       "      <td>-1.753096</td>\n",
       "      <td>9</td>\n",
       "      <td>-1.298887</td>\n",
       "      <td>-1.098280</td>\n",
       "      <td>-0.825418</td>\n",
       "      <td>0.347021</td>\n",
       "      <td>3</td>\n",
       "      <td>1.654719</td>\n",
       "      <td>-1.619584</td>\n",
       "      <td>-0.330002</td>\n",
       "      <td>-0.268102</td>\n",
       "      <td>1</td>\n",
       "    </tr>\n",
       "    <tr>\n",
       "      <th>1</th>\n",
       "      <td>1</td>\n",
       "      <td>-1.637643</td>\n",
       "      <td>1</td>\n",
       "      <td>-1.173036</td>\n",
       "      <td>-1.098280</td>\n",
       "      <td>0.039844</td>\n",
       "      <td>1.475592</td>\n",
       "      <td>0</td>\n",
       "      <td>1.170474</td>\n",
       "      <td>1.970077</td>\n",
       "      <td>-0.459239</td>\n",
       "      <td>-0.755640</td>\n",
       "      <td>1</td>\n",
       "    </tr>\n",
       "    <tr>\n",
       "      <th>2</th>\n",
       "      <td>1</td>\n",
       "      <td>-1.637643</td>\n",
       "      <td>1</td>\n",
       "      <td>-1.173036</td>\n",
       "      <td>-1.098280</td>\n",
       "      <td>0.039844</td>\n",
       "      <td>1.475592</td>\n",
       "      <td>0</td>\n",
       "      <td>1.170474</td>\n",
       "      <td>1.970077</td>\n",
       "      <td>-0.459239</td>\n",
       "      <td>-0.755640</td>\n",
       "      <td>1</td>\n",
       "    </tr>\n",
       "    <tr>\n",
       "      <th>3</th>\n",
       "      <td>1</td>\n",
       "      <td>-1.637643</td>\n",
       "      <td>6</td>\n",
       "      <td>-1.550588</td>\n",
       "      <td>-2.771424</td>\n",
       "      <td>-1.402260</td>\n",
       "      <td>1.475592</td>\n",
       "      <td>2</td>\n",
       "      <td>3.591698</td>\n",
       "      <td>-2.362273</td>\n",
       "      <td>1.479309</td>\n",
       "      <td>0.869486</td>\n",
       "      <td>2</td>\n",
       "    </tr>\n",
       "    <tr>\n",
       "      <th>4</th>\n",
       "      <td>1</td>\n",
       "      <td>-1.637643</td>\n",
       "      <td>6</td>\n",
       "      <td>-1.550588</td>\n",
       "      <td>-2.771424</td>\n",
       "      <td>-1.402260</td>\n",
       "      <td>1.475592</td>\n",
       "      <td>2</td>\n",
       "      <td>3.591698</td>\n",
       "      <td>-2.362273</td>\n",
       "      <td>1.479309</td>\n",
       "      <td>0.869486</td>\n",
       "      <td>2</td>\n",
       "    </tr>\n",
       "    <tr>\n",
       "      <th>...</th>\n",
       "      <td>...</td>\n",
       "      <td>...</td>\n",
       "      <td>...</td>\n",
       "      <td>...</td>\n",
       "      <td>...</td>\n",
       "      <td>...</td>\n",
       "      <td>...</td>\n",
       "      <td>...</td>\n",
       "      <td>...</td>\n",
       "      <td>...</td>\n",
       "      <td>...</td>\n",
       "      <td>...</td>\n",
       "      <td>...</td>\n",
       "    </tr>\n",
       "    <tr>\n",
       "      <th>652</th>\n",
       "      <td>0</td>\n",
       "      <td>0.902324</td>\n",
       "      <td>5</td>\n",
       "      <td>-1.424738</td>\n",
       "      <td>-1.098280</td>\n",
       "      <td>1.481948</td>\n",
       "      <td>1.475592</td>\n",
       "      <td>3</td>\n",
       "      <td>1.170474</td>\n",
       "      <td>1.970077</td>\n",
       "      <td>1.479309</td>\n",
       "      <td>1.682049</td>\n",
       "      <td>2</td>\n",
       "    </tr>\n",
       "    <tr>\n",
       "      <th>653</th>\n",
       "      <td>0</td>\n",
       "      <td>1.825948</td>\n",
       "      <td>5</td>\n",
       "      <td>1.092276</td>\n",
       "      <td>1.411435</td>\n",
       "      <td>0.760896</td>\n",
       "      <td>-1.345836</td>\n",
       "      <td>3</td>\n",
       "      <td>-0.524383</td>\n",
       "      <td>0.113356</td>\n",
       "      <td>1.479309</td>\n",
       "      <td>1.682049</td>\n",
       "      <td>2</td>\n",
       "    </tr>\n",
       "    <tr>\n",
       "      <th>654</th>\n",
       "      <td>0</td>\n",
       "      <td>1.479589</td>\n",
       "      <td>5</td>\n",
       "      <td>1.218127</td>\n",
       "      <td>1.411435</td>\n",
       "      <td>0.760896</td>\n",
       "      <td>-0.781551</td>\n",
       "      <td>3</td>\n",
       "      <td>0.444107</td>\n",
       "      <td>-1.124458</td>\n",
       "      <td>1.479309</td>\n",
       "      <td>1.682049</td>\n",
       "      <td>2</td>\n",
       "    </tr>\n",
       "    <tr>\n",
       "      <th>655</th>\n",
       "      <td>1</td>\n",
       "      <td>0.094153</td>\n",
       "      <td>7</td>\n",
       "      <td>-0.795484</td>\n",
       "      <td>-1.098280</td>\n",
       "      <td>-0.681208</td>\n",
       "      <td>0.911306</td>\n",
       "      <td>3</td>\n",
       "      <td>0.444107</td>\n",
       "      <td>-0.505551</td>\n",
       "      <td>0.186944</td>\n",
       "      <td>0.056923</td>\n",
       "      <td>2</td>\n",
       "    </tr>\n",
       "    <tr>\n",
       "      <th>656</th>\n",
       "      <td>0</td>\n",
       "      <td>0.902324</td>\n",
       "      <td>5</td>\n",
       "      <td>-1.298887</td>\n",
       "      <td>-1.098280</td>\n",
       "      <td>1.481948</td>\n",
       "      <td>1.475592</td>\n",
       "      <td>3</td>\n",
       "      <td>1.170474</td>\n",
       "      <td>1.970077</td>\n",
       "      <td>1.479309</td>\n",
       "      <td>1.682049</td>\n",
       "      <td>2</td>\n",
       "    </tr>\n",
       "  </tbody>\n",
       "</table>\n",
       "<p>657 rows × 13 columns</p>\n",
       "</div>"
      ],
      "text/plain": [
       "     Gender       Age  Occupation  Sleep Duration  Quality of Sleep  \\\n",
       "0         1 -1.753096           9       -1.298887         -1.098280   \n",
       "1         1 -1.637643           1       -1.173036         -1.098280   \n",
       "2         1 -1.637643           1       -1.173036         -1.098280   \n",
       "3         1 -1.637643           6       -1.550588         -2.771424   \n",
       "4         1 -1.637643           6       -1.550588         -2.771424   \n",
       "..      ...       ...         ...             ...               ...   \n",
       "652       0  0.902324           5       -1.424738         -1.098280   \n",
       "653       0  1.825948           5        1.092276          1.411435   \n",
       "654       0  1.479589           5        1.218127          1.411435   \n",
       "655       1  0.094153           7       -0.795484         -1.098280   \n",
       "656       0  0.902324           5       -1.298887         -1.098280   \n",
       "\n",
       "     Physical Activity Level  Stress Level  BMI Category  Heart Rate  \\\n",
       "0                  -0.825418      0.347021             3    1.654719   \n",
       "1                   0.039844      1.475592             0    1.170474   \n",
       "2                   0.039844      1.475592             0    1.170474   \n",
       "3                  -1.402260      1.475592             2    3.591698   \n",
       "4                  -1.402260      1.475592             2    3.591698   \n",
       "..                       ...           ...           ...         ...   \n",
       "652                 1.481948      1.475592             3    1.170474   \n",
       "653                 0.760896     -1.345836             3   -0.524383   \n",
       "654                 0.760896     -0.781551             3    0.444107   \n",
       "655                -0.681208      0.911306             3    0.444107   \n",
       "656                 1.481948      1.475592             3    1.170474   \n",
       "\n",
       "     Daily Steps  Systolic Pressure  Diastolic Pressure  Sleep Disorder  \n",
       "0      -1.619584          -0.330002           -0.268102               1  \n",
       "1       1.970077          -0.459239           -0.755640               1  \n",
       "2       1.970077          -0.459239           -0.755640               1  \n",
       "3      -2.362273           1.479309            0.869486               2  \n",
       "4      -2.362273           1.479309            0.869486               2  \n",
       "..           ...                ...                 ...             ...  \n",
       "652     1.970077           1.479309            1.682049               2  \n",
       "653     0.113356           1.479309            1.682049               2  \n",
       "654    -1.124458           1.479309            1.682049               2  \n",
       "655    -0.505551           0.186944            0.056923               2  \n",
       "656     1.970077           1.479309            1.682049               2  \n",
       "\n",
       "[657 rows x 13 columns]"
      ]
     },
     "execution_count": 55,
     "metadata": {},
     "output_type": "execute_result"
    }
   ],
   "source": [
    "df = pd.read_csv('Final_oversampled.csv')\n",
    "df"
   ]
  },
  {
   "cell_type": "code",
   "execution_count": 12,
   "metadata": {},
   "outputs": [
    {
     "data": {
      "text/plain": [
       "<AxesSubplot: >"
      ]
     },
     "execution_count": 12,
     "metadata": {},
     "output_type": "execute_result"
    },
    {
     "data": {
      "image/png": "[encoded data removed]",
      "text/plain": [
       "<Figure size 640x480 with 2 Axes>"
      ]
     },
     "metadata": {},
     "output_type": "display_data"
    }
   ],
   "source": [
    "sns.heatmap(df)"
   ]
  },
  {
   "cell_type": "code",
   "execution_count": 13,
   "metadata": {},
   "outputs": [
    {
     "data": {
      "text/html": [
       "<div>\n",
       "<style scoped>\n",
       "    .dataframe tbody tr th:only-of-type {\n",
       "        vertical-align: middle;\n",
       "    }\n",
       "\n",
       "    .dataframe tbody tr th {\n",
       "        vertical-align: top;\n",
       "    }\n",
       "\n",
       "    .dataframe thead th {\n",
       "        text-align: right;\n",
       "    }\n",
       "</style>\n",
       "<table border=\"1\" class=\"dataframe\">\n",
       "  <thead>\n",
       "    <tr style=\"text-align: right;\">\n",
       "      <th></th>\n",
       "      <th>Gender</th>\n",
       "      <th>Age</th>\n",
       "      <th>Occupation</th>\n",
       "      <th>Sleep Duration</th>\n",
       "      <th>Quality of Sleep</th>\n",
       "      <th>Physical Activity Level</th>\n",
       "      <th>Stress Level</th>\n",
       "      <th>BMI Category</th>\n",
       "      <th>Heart Rate</th>\n",
       "      <th>Daily Steps</th>\n",
       "      <th>Systolic Pressure</th>\n",
       "      <th>Diastolic Pressure</th>\n",
       "      <th>Sleep Disorder</th>\n",
       "    </tr>\n",
       "  </thead>\n",
       "  <tbody>\n",
       "    <tr>\n",
       "      <th>Gender</th>\n",
       "      <td>1.000000</td>\n",
       "      <td>-0.569573</td>\n",
       "      <td>-0.195426</td>\n",
       "      <td>-0.096638</td>\n",
       "      <td>-0.265813</td>\n",
       "      <td>-0.160927</td>\n",
       "      <td>0.333318</td>\n",
       "      <td>-0.358401</td>\n",
       "      <td>0.249088</td>\n",
       "      <td>-0.193718</td>\n",
       "      <td>-0.319950</td>\n",
       "      <td>-0.407922</td>\n",
       "      <td>-0.293391</td>\n",
       "    </tr>\n",
       "    <tr>\n",
       "      <th>Age</th>\n",
       "      <td>-0.569573</td>\n",
       "      <td>1.000000</td>\n",
       "      <td>0.115833</td>\n",
       "      <td>0.369328</td>\n",
       "      <td>0.526430</td>\n",
       "      <td>0.372095</td>\n",
       "      <td>-0.406222</td>\n",
       "      <td>0.533971</td>\n",
       "      <td>-0.295594</td>\n",
       "      <td>0.265768</td>\n",
       "      <td>0.582894</td>\n",
       "      <td>0.620149</td>\n",
       "      <td>0.302120</td>\n",
       "    </tr>\n",
       "    <tr>\n",
       "      <th>Occupation</th>\n",
       "      <td>-0.195426</td>\n",
       "      <td>0.115833</td>\n",
       "      <td>1.000000</td>\n",
       "      <td>-0.355870</td>\n",
       "      <td>-0.296690</td>\n",
       "      <td>-0.205736</td>\n",
       "      <td>-0.001340</td>\n",
       "      <td>0.651737</td>\n",
       "      <td>-0.054559</td>\n",
       "      <td>-0.150881</td>\n",
       "      <td>0.455599</td>\n",
       "      <td>0.438963</td>\n",
       "      <td>-0.235057</td>\n",
       "    </tr>\n",
       "    <tr>\n",
       "      <th>Sleep Duration</th>\n",
       "      <td>-0.096638</td>\n",
       "      <td>0.369328</td>\n",
       "      <td>-0.355870</td>\n",
       "      <td>1.000000</td>\n",
       "      <td>0.897041</td>\n",
       "      <td>0.236454</td>\n",
       "      <td>-0.823883</td>\n",
       "      <td>-0.356055</td>\n",
       "      <td>-0.466651</td>\n",
       "      <td>-0.055533</td>\n",
       "      <td>-0.151579</td>\n",
       "      <td>-0.114837</td>\n",
       "      <td>0.218354</td>\n",
       "    </tr>\n",
       "    <tr>\n",
       "      <th>Quality of Sleep</th>\n",
       "      <td>-0.265813</td>\n",
       "      <td>0.526430</td>\n",
       "      <td>-0.296690</td>\n",
       "      <td>0.897041</td>\n",
       "      <td>1.000000</td>\n",
       "      <td>0.287068</td>\n",
       "      <td>-0.881899</td>\n",
       "      <td>-0.256711</td>\n",
       "      <td>-0.635852</td>\n",
       "      <td>0.086680</td>\n",
       "      <td>-0.080392</td>\n",
       "      <td>-0.026802</td>\n",
       "      <td>0.204531</td>\n",
       "    </tr>\n",
       "    <tr>\n",
       "      <th>Physical Activity Level</th>\n",
       "      <td>-0.160927</td>\n",
       "      <td>0.372095</td>\n",
       "      <td>-0.205736</td>\n",
       "      <td>0.236454</td>\n",
       "      <td>0.287068</td>\n",
       "      <td>1.000000</td>\n",
       "      <td>-0.047693</td>\n",
       "      <td>0.079339</td>\n",
       "      <td>0.070694</td>\n",
       "      <td>0.787226</td>\n",
       "      <td>0.335348</td>\n",
       "      <td>0.451805</td>\n",
       "      <td>0.558573</td>\n",
       "    </tr>\n",
       "    <tr>\n",
       "      <th>Stress Level</th>\n",
       "      <td>0.333318</td>\n",
       "      <td>-0.406222</td>\n",
       "      <td>-0.001340</td>\n",
       "      <td>-0.823883</td>\n",
       "      <td>-0.881899</td>\n",
       "      <td>-0.047693</td>\n",
       "      <td>1.000000</td>\n",
       "      <td>0.141162</td>\n",
       "      <td>0.652290</td>\n",
       "      <td>0.187636</td>\n",
       "      <td>0.056987</td>\n",
       "      <td>0.021756</td>\n",
       "      <td>-0.035914</td>\n",
       "    </tr>\n",
       "    <tr>\n",
       "      <th>BMI Category</th>\n",
       "      <td>-0.358401</td>\n",
       "      <td>0.533971</td>\n",
       "      <td>0.651737</td>\n",
       "      <td>-0.356055</td>\n",
       "      <td>-0.256711</td>\n",
       "      <td>0.079339</td>\n",
       "      <td>0.141162</td>\n",
       "      <td>1.000000</td>\n",
       "      <td>0.175204</td>\n",
       "      <td>0.037913</td>\n",
       "      <td>0.721592</td>\n",
       "      <td>0.739764</td>\n",
       "      <td>0.024237</td>\n",
       "    </tr>\n",
       "    <tr>\n",
       "      <th>Heart Rate</th>\n",
       "      <td>0.249088</td>\n",
       "      <td>-0.295594</td>\n",
       "      <td>-0.054559</td>\n",
       "      <td>-0.466651</td>\n",
       "      <td>-0.635852</td>\n",
       "      <td>0.070694</td>\n",
       "      <td>0.652290</td>\n",
       "      <td>0.175204</td>\n",
       "      <td>1.000000</td>\n",
       "      <td>-0.134532</td>\n",
       "      <td>0.268559</td>\n",
       "      <td>0.196381</td>\n",
       "      <td>0.250692</td>\n",
       "    </tr>\n",
       "    <tr>\n",
       "      <th>Daily Steps</th>\n",
       "      <td>-0.193718</td>\n",
       "      <td>0.265768</td>\n",
       "      <td>-0.150881</td>\n",
       "      <td>-0.055533</td>\n",
       "      <td>0.086680</td>\n",
       "      <td>0.787226</td>\n",
       "      <td>0.187636</td>\n",
       "      <td>0.037913</td>\n",
       "      <td>-0.134532</td>\n",
       "      <td>1.000000</td>\n",
       "      <td>0.150309</td>\n",
       "      <td>0.292069</td>\n",
       "      <td>0.396201</td>\n",
       "    </tr>\n",
       "    <tr>\n",
       "      <th>Systolic Pressure</th>\n",
       "      <td>-0.319950</td>\n",
       "      <td>0.582894</td>\n",
       "      <td>0.455599</td>\n",
       "      <td>-0.151579</td>\n",
       "      <td>-0.080392</td>\n",
       "      <td>0.335348</td>\n",
       "      <td>0.056987</td>\n",
       "      <td>0.721592</td>\n",
       "      <td>0.268559</td>\n",
       "      <td>0.150309</td>\n",
       "      <td>1.000000</td>\n",
       "      <td>0.974505</td>\n",
       "      <td>0.338927</td>\n",
       "    </tr>\n",
       "    <tr>\n",
       "      <th>Diastolic Pressure</th>\n",
       "      <td>-0.407922</td>\n",
       "      <td>0.620149</td>\n",
       "      <td>0.438963</td>\n",
       "      <td>-0.114837</td>\n",
       "      <td>-0.026802</td>\n",
       "      <td>0.451805</td>\n",
       "      <td>0.021756</td>\n",
       "      <td>0.739764</td>\n",
       "      <td>0.196381</td>\n",
       "      <td>0.292069</td>\n",
       "      <td>0.974505</td>\n",
       "      <td>1.000000</td>\n",
       "      <td>0.406240</td>\n",
       "    </tr>\n",
       "    <tr>\n",
       "      <th>Sleep Disorder</th>\n",
       "      <td>-0.293391</td>\n",
       "      <td>0.302120</td>\n",
       "      <td>-0.235057</td>\n",
       "      <td>0.218354</td>\n",
       "      <td>0.204531</td>\n",
       "      <td>0.558573</td>\n",
       "      <td>-0.035914</td>\n",
       "      <td>0.024237</td>\n",
       "      <td>0.250692</td>\n",
       "      <td>0.396201</td>\n",
       "      <td>0.338927</td>\n",
       "      <td>0.406240</td>\n",
       "      <td>1.000000</td>\n",
       "    </tr>\n",
       "  </tbody>\n",
       "</table>\n",
       "</div>"
      ],
      "text/plain": [
       "                           Gender       Age  Occupation  Sleep Duration  \\\n",
       "Gender                   1.000000 -0.569573   -0.195426       -0.096638   \n",
       "Age                     -0.569573  1.000000    0.115833        0.369328   \n",
       "Occupation              -0.195426  0.115833    1.000000       -0.355870   \n",
       "Sleep Duration          -0.096638  0.369328   -0.355870        1.000000   \n",
       "Quality of Sleep        -0.265813  0.526430   -0.296690        0.897041   \n",
       "Physical Activity Level -0.160927  0.372095   -0.205736        0.236454   \n",
       "Stress Level             0.333318 -0.406222   -0.001340       -0.823883   \n",
       "BMI Category            -0.358401  0.533971    0.651737       -0.356055   \n",
       "Heart Rate               0.249088 -0.295594   -0.054559       -0.466651   \n",
       "Daily Steps             -0.193718  0.265768   -0.150881       -0.055533   \n",
       "Systolic Pressure       -0.319950  0.582894    0.455599       -0.151579   \n",
       "Diastolic Pressure      -0.407922  0.620149    0.438963       -0.114837   \n",
       "Sleep Disorder          -0.293391  0.302120   -0.235057        0.218354   \n",
       "\n",
       "                         Quality of Sleep  Physical Activity Level  \\\n",
       "Gender                          -0.265813                -0.160927   \n",
       "Age                              0.526430                 0.372095   \n",
       "Occupation                      -0.296690                -0.205736   \n",
       "Sleep Duration                   0.897041                 0.236454   \n",
       "Quality of Sleep                 1.000000                 0.287068   \n",
       "Physical Activity Level          0.287068                 1.000000   \n",
       "Stress Level                    -0.881899                -0.047693   \n",
       "BMI Category                    -0.256711                 0.079339   \n",
       "Heart Rate                      -0.635852                 0.070694   \n",
       "Daily Steps                      0.086680                 0.787226   \n",
       "Systolic Pressure               -0.080392                 0.335348   \n",
       "Diastolic Pressure              -0.026802                 0.451805   \n",
       "Sleep Disorder                   0.204531                 0.558573   \n",
       "\n",
       "                         Stress Level  BMI Category  Heart Rate  Daily Steps  \\\n",
       "Gender                       0.333318     -0.358401    0.249088    -0.193718   \n",
       "Age                         -0.406222      0.533971   -0.295594     0.265768   \n",
       "Occupation                  -0.001340      0.651737   -0.054559    -0.150881   \n",
       "Sleep Duration              -0.823883     -0.356055   -0.466651    -0.055533   \n",
       "Quality of Sleep            -0.881899     -0.256711   -0.635852     0.086680   \n",
       "Physical Activity Level     -0.047693      0.079339    0.070694     0.787226   \n",
       "Stress Level                 1.000000      0.141162    0.652290     0.187636   \n",
       "BMI Category                 0.141162      1.000000    0.175204     0.037913   \n",
       "Heart Rate                   0.652290      0.175204    1.000000    -0.134532   \n",
       "Daily Steps                  0.187636      0.037913   -0.134532     1.000000   \n",
       "Systolic Pressure            0.056987      0.721592    0.268559     0.150309   \n",
       "Diastolic Pressure           0.021756      0.739764    0.196381     0.292069   \n",
       "Sleep Disorder              -0.035914      0.024237    0.250692     0.396201   \n",
       "\n",
       "                         Systolic Pressure  Diastolic Pressure  Sleep Disorder  \n",
       "Gender                           -0.319950           -0.407922       -0.293391  \n",
       "Age                               0.582894            0.620149        0.302120  \n",
       "Occupation                        0.455599            0.438963       -0.235057  \n",
       "Sleep Duration                   -0.151579           -0.114837        0.218354  \n",
       "Quality of Sleep                 -0.080392           -0.026802        0.204531  \n",
       "Physical Activity Level           0.335348            0.451805        0.558573  \n",
       "Stress Level                      0.056987            0.021756       -0.035914  \n",
       "BMI Category                      0.721592            0.739764        0.024237  \n",
       "Heart Rate                        0.268559            0.196381        0.250692  \n",
       "Daily Steps                       0.150309            0.292069        0.396201  \n",
       "Systolic Pressure                 1.000000            0.974505        0.338927  \n",
       "Diastolic Pressure                0.974505            1.000000        0.406240  \n",
       "Sleep Disorder                    0.338927            0.406240        1.000000  "
      ]
     },
     "execution_count": 13,
     "metadata": {},
     "output_type": "execute_result"
    }
   ],
   "source": [
    "df.corr()"
   ]
  },
  {
   "cell_type": "code",
   "execution_count": 15,
   "metadata": {},
   "outputs": [],
   "source": [
    "df3 = df.drop(['Stress Level', 'BMI Category'], axis=1)"
   ]
  },
  {
   "cell_type": "code",
   "execution_count": 16,
   "metadata": {},
   "outputs": [],
   "source": [
    "X = df.drop('Sleep Disorder', axis=1)\n",
    "y = df['Sleep Disorder']"
   ]
  },
  {
   "cell_type": "code",
   "execution_count": 17,
   "metadata": {},
   "outputs": [],
   "source": [
    "from sklearn.model_selection import train_test_split"
   ]
  },
  {
   "cell_type": "code",
   "execution_count": 18,
   "metadata": {},
   "outputs": [],
   "source": [
    "X_train, X_test, y_train, y_test = train_test_split(X, y, test_size=0.2, random_state=42)"
   ]
  },
  {
   "cell_type": "code",
   "execution_count": 19,
   "metadata": {},
   "outputs": [],
   "source": [
    "from sklearn.naive_bayes import GaussianNB\n",
    "from sklearn.tree import DecisionTreeClassifier\n",
    "from sklearn.ensemble import AdaBoostClassifier\n",
    "from sklearn.metrics import accuracy_score, confusion_matrix, classification_report"
   ]
  },
  {
   "cell_type": "markdown",
   "metadata": {},
   "source": [
    "## Bayes"
   ]
  },
  {
   "cell_type": "code",
   "execution_count": 20,
   "metadata": {},
   "outputs": [
    {
     "data": {
      "text/html": [
       "<style>#sk-container-id-1 {color: black;background-color: white;}#sk-container-id-1 pre{padding: 0;}#sk-container-id-1 div.sk-toggleable {background-color: white;}#sk-container-id-1 label.sk-toggleable__label {cursor: pointer;display: block;width: 100%;margin-bottom: 0;padding: 0.3em;box-sizing: border-box;text-align: center;}#sk-container-id-1 label.sk-toggleable__label-arrow:before {content: \"▸\";float: left;margin-right: 0.25em;color: #696969;}#sk-container-id-1 label.sk-toggleable__label-arrow:hover:before {color: black;}#sk-container-id-1 div.sk-estimator:hover label.sk-toggleable__label-arrow:before {color: black;}#sk-container-id-1 div.sk-toggleable__content {max-height: 0;max-width: 0;overflow: hidden;text-align: left;background-color: #f0f8ff;}#sk-container-id-1 div.sk-toggleable__content pre {margin: 0.2em;color: black;border-radius: 0.25em;background-color: #f0f8ff;}#sk-container-id-1 input.sk-toggleable__control:checked~div.sk-toggleable__content {max-height: 200px;max-width: 100%;overflow: auto;}#sk-container-id-1 input.sk-toggleable__control:checked~label.sk-toggleable__label-arrow:before {content: \"▾\";}#sk-container-id-1 div.sk-estimator input.sk-toggleable__control:checked~label.sk-toggleable__label {background-color: #d4ebff;}#sk-container-id-1 div.sk-label input.sk-toggleable__control:checked~label.sk-toggleable__label {background-color: #d4ebff;}#sk-container-id-1 input.sk-hidden--visually {border: 0;clip: rect(1px 1px 1px 1px);clip: rect(1px, 1px, 1px, 1px);height: 1px;margin: -1px;overflow: hidden;padding: 0;position: absolute;width: 1px;}#sk-container-id-1 div.sk-estimator {font-family: monospace;background-color: #f0f8ff;border: 1px dotted black;border-radius: 0.25em;box-sizing: border-box;margin-bottom: 0.5em;}#sk-container-id-1 div.sk-estimator:hover {background-color: #d4ebff;}#sk-container-id-1 div.sk-parallel-item::after {content: \"\";width: 100%;border-bottom: 1px solid gray;flex-grow: 1;}#sk-container-id-1 div.sk-label:hover label.sk-toggleable__label {background-color: #d4ebff;}#sk-container-id-1 div.sk-serial::before {content: \"\";position: absolute;border-left: 1px solid gray;box-sizing: border-box;top: 0;bottom: 0;left: 50%;z-index: 0;}#sk-container-id-1 div.sk-serial {display: flex;flex-direction: column;align-items: center;background-color: white;padding-right: 0.2em;padding-left: 0.2em;position: relative;}#sk-container-id-1 div.sk-item {position: relative;z-index: 1;}#sk-container-id-1 div.sk-parallel {display: flex;align-items: stretch;justify-content: center;background-color: white;position: relative;}#sk-container-id-1 div.sk-item::before, #sk-container-id-1 div.sk-parallel-item::before {content: \"\";position: absolute;border-left: 1px solid gray;box-sizing: border-box;top: 0;bottom: 0;left: 50%;z-index: -1;}#sk-container-id-1 div.sk-parallel-item {display: flex;flex-direction: column;z-index: 1;position: relative;background-color: white;}#sk-container-id-1 div.sk-parallel-item:first-child::after {align-self: flex-end;width: 50%;}#sk-container-id-1 div.sk-parallel-item:last-child::after {align-self: flex-start;width: 50%;}#sk-container-id-1 div.sk-parallel-item:only-child::after {width: 0;}#sk-container-id-1 div.sk-dashed-wrapped {border: 1px dashed gray;margin: 0 0.4em 0.5em 0.4em;box-sizing: border-box;padding-bottom: 0.4em;background-color: white;}#sk-container-id-1 div.sk-label label {font-family: monospace;font-weight: bold;display: inline-block;line-height: 1.2em;}#sk-container-id-1 div.sk-label-container {text-align: center;}#sk-container-id-1 div.sk-container {/* jupyter's `normalize.less` sets `[hidden] { display: none; }` but bootstrap.min.css set `[hidden] { display: none !important; }` so we also need the `!important` here to be able to override the default hidden behavior on the sphinx rendered scikit-learn.org. See: https://github.com/scikit-learn/scikit-learn/issues/21755 */display: inline-block !important;position: relative;}#sk-container-id-1 div.sk-text-repr-fallback {display: none;}</style><div id=\"sk-container-id-1\" class=\"sk-top-container\"><div class=\"sk-text-repr-fallback\"><pre>GaussianNB()</pre><b>In a Jupyter environment, please rerun this cell to show the HTML representation or trust the notebook. <br />On GitHub, the HTML representation is unable to render, please try loading this page with nbviewer.org.</b></div><div class=\"sk-container\" hidden><div class=\"sk-item\"><div class=\"sk-estimator sk-toggleable\"><input class=\"sk-toggleable__control sk-hidden--visually\" id=\"sk-estimator-id-1\" type=\"checkbox\" checked><label for=\"sk-estimator-id-1\" class=\"sk-toggleable__label sk-toggleable__label-arrow\">GaussianNB</label><div class=\"sk-toggleable__content\"><pre>GaussianNB()</pre></div></div></div></div></div>"
      ],
      "text/plain": [
       "GaussianNB()"
      ]
     },
     "execution_count": 20,
     "metadata": {},
     "output_type": "execute_result"
    }
   ],
   "source": [
    "GNB = GaussianNB()\n",
    "\n",
    "GNB.fit(X_train, y_train)"
   ]
  },
  {
   "cell_type": "code",
   "execution_count": 21,
   "metadata": {},
   "outputs": [
    {
     "name": "stdout",
     "output_type": "stream",
     "text": [
      "              precision    recall  f1-score   support\n",
      "\n",
      "           0       0.87      0.88      0.87       190\n",
      "           1       0.86      0.91      0.88       167\n",
      "           2       0.93      0.86      0.90       168\n",
      "\n",
      "    accuracy                           0.88       525\n",
      "   macro avg       0.89      0.88      0.88       525\n",
      "weighted avg       0.89      0.88      0.88       525\n",
      "\n"
     ]
    }
   ],
   "source": [
    "print(classification_report(y_train, GNB.predict(X_train)))"
   ]
  },
  {
   "cell_type": "code",
   "execution_count": 22,
   "metadata": {},
   "outputs": [
    {
     "name": "stdout",
     "output_type": "stream",
     "text": [
      "              precision    recall  f1-score   support\n",
      "\n",
      "           0       0.74      0.90      0.81        29\n",
      "           1       0.87      0.92      0.90        52\n",
      "           2       1.00      0.82      0.90        51\n",
      "\n",
      "    accuracy                           0.88       132\n",
      "   macro avg       0.87      0.88      0.87       132\n",
      "weighted avg       0.89      0.88      0.88       132\n",
      "\n"
     ]
    }
   ],
   "source": [
    "print(classification_report(y_test, GNB.predict(X_test)))"
   ]
  },
  {
   "cell_type": "code",
   "execution_count": 23,
   "metadata": {},
   "outputs": [],
   "source": [
    "import pickle\n",
    "\n",
    "pickle.dump(GNB, open('gnbmodel.pkl', 'wb'))"
   ]
  },
  {
   "cell_type": "markdown",
   "metadata": {},
   "source": [
    "## Decision Tree"
   ]
  },
  {
   "cell_type": "markdown",
   "metadata": {},
   "source": [
    "### GINI"
   ]
  },
  {
   "cell_type": "code",
   "execution_count": 24,
   "metadata": {},
   "outputs": [
    {
     "data": {
      "text/html": [
       "<style>#sk-container-id-2 {color: black;background-color: white;}#sk-container-id-2 pre{padding: 0;}#sk-container-id-2 div.sk-toggleable {background-color: white;}#sk-container-id-2 label.sk-toggleable__label {cursor: pointer;display: block;width: 100%;margin-bottom: 0;padding: 0.3em;box-sizing: border-box;text-align: center;}#sk-container-id-2 label.sk-toggleable__label-arrow:before {content: \"▸\";float: left;margin-right: 0.25em;color: #696969;}#sk-container-id-2 label.sk-toggleable__label-arrow:hover:before {color: black;}#sk-container-id-2 div.sk-estimator:hover label.sk-toggleable__label-arrow:before {color: black;}#sk-container-id-2 div.sk-toggleable__content {max-height: 0;max-width: 0;overflow: hidden;text-align: left;background-color: #f0f8ff;}#sk-container-id-2 div.sk-toggleable__content pre {margin: 0.2em;color: black;border-radius: 0.25em;background-color: #f0f8ff;}#sk-container-id-2 input.sk-toggleable__control:checked~div.sk-toggleable__content {max-height: 200px;max-width: 100%;overflow: auto;}#sk-container-id-2 input.sk-toggleable__control:checked~label.sk-toggleable__label-arrow:before {content: \"▾\";}#sk-container-id-2 div.sk-estimator input.sk-toggleable__control:checked~label.sk-toggleable__label {background-color: #d4ebff;}#sk-container-id-2 div.sk-label input.sk-toggleable__control:checked~label.sk-toggleable__label {background-color: #d4ebff;}#sk-container-id-2 input.sk-hidden--visually {border: 0;clip: rect(1px 1px 1px 1px);clip: rect(1px, 1px, 1px, 1px);height: 1px;margin: -1px;overflow: hidden;padding: 0;position: absolute;width: 1px;}#sk-container-id-2 div.sk-estimator {font-family: monospace;background-color: #f0f8ff;border: 1px dotted black;border-radius: 0.25em;box-sizing: border-box;margin-bottom: 0.5em;}#sk-container-id-2 div.sk-estimator:hover {background-color: #d4ebff;}#sk-container-id-2 div.sk-parallel-item::after {content: \"\";width: 100%;border-bottom: 1px solid gray;flex-grow: 1;}#sk-container-id-2 div.sk-label:hover label.sk-toggleable__label {background-color: #d4ebff;}#sk-container-id-2 div.sk-serial::before {content: \"\";position: absolute;border-left: 1px solid gray;box-sizing: border-box;top: 0;bottom: 0;left: 50%;z-index: 0;}#sk-container-id-2 div.sk-serial {display: flex;flex-direction: column;align-items: center;background-color: white;padding-right: 0.2em;padding-left: 0.2em;position: relative;}#sk-container-id-2 div.sk-item {position: relative;z-index: 1;}#sk-container-id-2 div.sk-parallel {display: flex;align-items: stretch;justify-content: center;background-color: white;position: relative;}#sk-container-id-2 div.sk-item::before, #sk-container-id-2 div.sk-parallel-item::before {content: \"\";position: absolute;border-left: 1px solid gray;box-sizing: border-box;top: 0;bottom: 0;left: 50%;z-index: -1;}#sk-container-id-2 div.sk-parallel-item {display: flex;flex-direction: column;z-index: 1;position: relative;background-color: white;}#sk-container-id-2 div.sk-parallel-item:first-child::after {align-self: flex-end;width: 50%;}#sk-container-id-2 div.sk-parallel-item:last-child::after {align-self: flex-start;width: 50%;}#sk-container-id-2 div.sk-parallel-item:only-child::after {width: 0;}#sk-container-id-2 div.sk-dashed-wrapped {border: 1px dashed gray;margin: 0 0.4em 0.5em 0.4em;box-sizing: border-box;padding-bottom: 0.4em;background-color: white;}#sk-container-id-2 div.sk-label label {font-family: monospace;font-weight: bold;display: inline-block;line-height: 1.2em;}#sk-container-id-2 div.sk-label-container {text-align: center;}#sk-container-id-2 div.sk-container {/* jupyter's `normalize.less` sets `[hidden] { display: none; }` but bootstrap.min.css set `[hidden] { display: none !important; }` so we also need the `!important` here to be able to override the default hidden behavior on the sphinx rendered scikit-learn.org. See: https://github.com/scikit-learn/scikit-learn/issues/21755 */display: inline-block !important;position: relative;}#sk-container-id-2 div.sk-text-repr-fallback {display: none;}</style><div id=\"sk-container-id-2\" class=\"sk-top-container\"><div class=\"sk-text-repr-fallback\"><pre>DecisionTreeClassifier(random_state=42)</pre><b>In a Jupyter environment, please rerun this cell to show the HTML representation or trust the notebook. <br />On GitHub, the HTML representation is unable to render, please try loading this page with nbviewer.org.</b></div><div class=\"sk-container\" hidden><div class=\"sk-item\"><div class=\"sk-estimator sk-toggleable\"><input class=\"sk-toggleable__control sk-hidden--visually\" id=\"sk-estimator-id-2\" type=\"checkbox\" checked><label for=\"sk-estimator-id-2\" class=\"sk-toggleable__label sk-toggleable__label-arrow\">DecisionTreeClassifier</label><div class=\"sk-toggleable__content\"><pre>DecisionTreeClassifier(random_state=42)</pre></div></div></div></div></div>"
      ],
      "text/plain": [
       "DecisionTreeClassifier(random_state=42)"
      ]
     },
     "execution_count": 24,
     "metadata": {},
     "output_type": "execute_result"
    }
   ],
   "source": [
    "dtcG = DecisionTreeClassifier(random_state=42)\n",
    "\n",
    "dtcG.fit(X_train, y_train)"
   ]
  },
  {
   "cell_type": "code",
   "execution_count": 25,
   "metadata": {},
   "outputs": [
    {
     "name": "stdout",
     "output_type": "stream",
     "text": [
      "              precision    recall  f1-score   support\n",
      "\n",
      "           0       0.91      0.96      0.93       190\n",
      "           1       0.95      0.88      0.91       167\n",
      "           2       0.93      0.94      0.94       168\n",
      "\n",
      "    accuracy                           0.93       525\n",
      "   macro avg       0.93      0.93      0.93       525\n",
      "weighted avg       0.93      0.93      0.93       525\n",
      "\n"
     ]
    }
   ],
   "source": [
    "print(classification_report(y_train, dtcG.predict(X_train)))"
   ]
  },
  {
   "cell_type": "code",
   "execution_count": 26,
   "metadata": {},
   "outputs": [
    {
     "name": "stdout",
     "output_type": "stream",
     "text": [
      "              precision    recall  f1-score   support\n",
      "\n",
      "           0       0.69      0.93      0.79        29\n",
      "           1       0.93      0.81      0.87        52\n",
      "           2       0.96      0.90      0.93        51\n",
      "\n",
      "    accuracy                           0.87       132\n",
      "   macro avg       0.86      0.88      0.86       132\n",
      "weighted avg       0.89      0.87      0.87       132\n",
      "\n"
     ]
    }
   ],
   "source": [
    "print(classification_report(y_test, dtcG.predict(X_test)))"
   ]
  },
  {
   "cell_type": "code",
   "execution_count": 27,
   "metadata": {},
   "outputs": [
    {
     "data": {
      "text/plain": [
       "[<matplotlib.lines.Line2D at 0x1c1a971a350>]"
      ]
     },
     "execution_count": 27,
     "metadata": {},
     "output_type": "execute_result"
    },
    {
     "data": {
      "image/png": "[encoded data removed]",
      "text/plain": [
       "<Figure size 640x480 with 1 Axes>"
      ]
     },
     "metadata": {},
     "output_type": "display_data"
    }
   ],
   "source": [
    "acc_train = []\n",
    "acc_test = []\n",
    "\n",
    "for i in range(1, 21):\n",
    "    dtc = DecisionTreeClassifier(random_state=42, max_depth=i, criterion='gini')\n",
    "    dtc.fit(X_train, y_train)\n",
    "    acc_train.append(accuracy_score(y_train, dtc.predict(X_train)))\n",
    "    acc_test.append(accuracy_score(y_test, dtc.predict(X_test)))\n",
    "\n",
    "plt.plot(range(1, 21), acc_train, label='Train Accuracy')\n",
    "plt.plot(range(1, 21), acc_test, label='Test Accuracy')"
   ]
  },
  {
   "cell_type": "code",
   "execution_count": 28,
   "metadata": {},
   "outputs": [
    {
     "data": {
      "text/plain": [
       "5"
      ]
     },
     "execution_count": 28,
     "metadata": {},
     "output_type": "execute_result"
    }
   ],
   "source": [
    "# Get the best depth\n",
    "best_depth = acc_test.index(max(acc_test)) + 1\n",
    "best_depth"
   ]
  },
  {
   "cell_type": "code",
   "execution_count": 29,
   "metadata": {},
   "outputs": [
    {
     "data": {
      "text/plain": [
       "9"
      ]
     },
     "execution_count": 29,
     "metadata": {},
     "output_type": "execute_result"
    }
   ],
   "source": [
    "acc_train.index(max(acc_train)) + 1"
   ]
  },
  {
   "cell_type": "code",
   "execution_count": 30,
   "metadata": {},
   "outputs": [
    {
     "name": "stdout",
     "output_type": "stream",
     "text": [
      "              precision    recall  f1-score   support\n",
      "\n",
      "           0       0.96      0.89      0.92       190\n",
      "           1       0.86      0.96      0.91       167\n",
      "           2       0.95      0.92      0.93       168\n",
      "\n",
      "    accuracy                           0.92       525\n",
      "   macro avg       0.92      0.92      0.92       525\n",
      "weighted avg       0.93      0.92      0.92       525\n",
      "\n",
      "              precision    recall  f1-score   support\n",
      "\n",
      "           0       0.89      0.83      0.86        29\n",
      "           1       0.88      0.96      0.92        52\n",
      "           2       0.96      0.90      0.93        51\n",
      "\n",
      "    accuracy                           0.91       132\n",
      "   macro avg       0.91      0.90      0.90       132\n",
      "weighted avg       0.91      0.91      0.91       132\n",
      "\n"
     ]
    }
   ],
   "source": [
    "dtcG5 = DecisionTreeClassifier(random_state=42, max_depth=5, criterion='gini')\n",
    "\n",
    "dtcG5.fit(X_train, y_train)\n",
    "\n",
    "print(classification_report(y_train, dtcG5.predict(X_train)))\n",
    "\n",
    "print(classification_report(y_test, dtcG5.predict(X_test)))"
   ]
  },
  {
   "cell_type": "code",
   "execution_count": 31,
   "metadata": {},
   "outputs": [
    {
     "name": "stdout",
     "output_type": "stream",
     "text": [
      "[Text(0.6620370370370371, 0.9166666666666666, 'Systolic Pressure <= 1.092\\ngini = 0.665\\nsamples = 525\\nvalue = [190, 167, 168]'), Text(0.39814814814814814, 0.75, 'BMI Category <= 2.5\\ngini = 0.56\\nsamples = 368\\nvalue = [181, 162, 25]'), Text(0.24074074074074073, 0.5833333333333334, 'Diastolic Pressure <= 0.138\\ngini = 0.339\\nsamples = 190\\nvalue = [23, 152, 15]'), Text(0.14814814814814814, 0.4166666666666667, 'Systolic Pressure <= 0.058\\ngini = 0.251\\nsamples = 177\\nvalue = [17, 152, 8]'), Text(0.07407407407407407, 0.25, 'Occupation <= 9.5\\ngini = 0.166\\nsamples = 124\\nvalue = [6, 113, 5]'), Text(0.037037037037037035, 0.08333333333333333, 'gini = 0.129\\nsamples = 117\\nvalue = [6, 109, 2]'), Text(0.1111111111111111, 0.08333333333333333, 'gini = 0.49\\nsamples = 7\\nvalue = [0, 4, 3]'), Text(0.2222222222222222, 0.25, 'Age <= 0.036\\ngini = 0.412\\nsamples = 53\\nvalue = [11, 39, 3]'), Text(0.18518518518518517, 0.08333333333333333, 'gini = 0.297\\nsamples = 35\\nvalue = [4, 29, 2]'), Text(0.25925925925925924, 0.08333333333333333, 'gini = 0.537\\nsamples = 18\\nvalue = [7, 10, 1]'), Text(0.3333333333333333, 0.4166666666666667, 'Diastolic Pressure <= 0.301\\ngini = 0.497\\nsamples = 13\\nvalue = [6, 0, 7]'), Text(0.2962962962962963, 0.25, 'gini = 0.0\\nsamples = 3\\nvalue = [3, 0, 0]'), Text(0.37037037037037035, 0.25, 'BMI Category <= 1.5\\ngini = 0.42\\nsamples = 10\\nvalue = [3, 0, 7]'), Text(0.3333333333333333, 0.08333333333333333, 'gini = 0.469\\nsamples = 8\\nvalue = [3, 0, 5]'), Text(0.4074074074074074, 0.08333333333333333, 'gini = 0.0\\nsamples = 2\\nvalue = [0, 0, 2]'), Text(0.5555555555555556, 0.5833333333333334, 'Systolic Pressure <= -0.007\\ngini = 0.206\\nsamples = 178\\nvalue = [158, 10, 10]'), Text(0.5185185185185185, 0.4166666666666667, 'gini = 0.0\\nsamples = 8\\nvalue = [0, 8, 0]'), Text(0.5925925925925926, 0.4166666666666667, 'Heart Rate <= 1.413\\ngini = 0.133\\nsamples = 170\\nvalue = [158, 2, 10]'), Text(0.5185185185185185, 0.25, 'Age <= 0.152\\ngini = 0.083\\nsamples = 162\\nvalue = [155, 2, 5]'), Text(0.48148148148148145, 0.08333333333333333, 'gini = 0.206\\nsamples = 43\\nvalue = [38, 0, 5]'), Text(0.5555555555555556, 0.08333333333333333, 'gini = 0.033\\nsamples = 119\\nvalue = [117, 2, 0]'), Text(0.6666666666666666, 0.25, 'Daily Steps <= -1.434\\ngini = 0.469\\nsamples = 8\\nvalue = [3, 0, 5]'), Text(0.6296296296296297, 0.08333333333333333, 'gini = 0.0\\nsamples = 3\\nvalue = [3, 0, 0]'), Text(0.7037037037037037, 0.08333333333333333, 'gini = 0.0\\nsamples = 5\\nvalue = [0, 0, 5]'), Text(0.9259259259259259, 0.75, 'Occupation <= 7.5\\ngini = 0.166\\nsamples = 157\\nvalue = [9, 5, 143]'), Text(0.8888888888888888, 0.5833333333333334, 'Systolic Pressure <= 1.609\\ngini = 0.102\\nsamples = 151\\nvalue = [3, 5, 143]'), Text(0.8518518518518519, 0.4166666666666667, 'Sleep Duration <= 1.281\\ngini = 0.078\\nsamples = 149\\nvalue = [1, 5, 143]'), Text(0.8148148148148148, 0.25, 'Sleep Duration <= -1.236\\ngini = 0.089\\nsamples = 130\\nvalue = [1, 5, 124]'), Text(0.7777777777777778, 0.08333333333333333, 'gini = 0.06\\nsamples = 65\\nvalue = [1, 1, 63]'), Text(0.8518518518518519, 0.08333333333333333, 'gini = 0.116\\nsamples = 65\\nvalue = [0, 4, 61]'), Text(0.8888888888888888, 0.25, 'gini = 0.0\\nsamples = 19\\nvalue = [0, 0, 19]'), Text(0.9259259259259259, 0.4166666666666667, 'gini = 0.0\\nsamples = 2\\nvalue = [2, 0, 0]'), Text(0.9629629629629629, 0.5833333333333334, 'gini = 0.0\\nsamples = 6\\nvalue = [6, 0, 0]')]\n"
     ]
    },
    {
     "data": {
      "image/png": "[encoded data removed]",
      "text/plain": [
       "<Figure size 640x480 with 1 Axes>"
      ]
     },
     "metadata": {},
     "output_type": "display_data"
    }
   ],
   "source": [
    "# print the tree\n",
    "\n",
    "from sklearn.tree import plot_tree\n",
    "print(plot_tree(dtcG5, feature_names=X.columns))"
   ]
  },
  {
   "cell_type": "code",
   "execution_count": 32,
   "metadata": {},
   "outputs": [],
   "source": [
    "pickle.dump(dtcG5, open('dtcG5model.pkl', 'wb'))"
   ]
  },
  {
   "cell_type": "markdown",
   "metadata": {},
   "source": [
    "### Entropy"
   ]
  },
  {
   "cell_type": "code",
   "execution_count": 33,
   "metadata": {},
   "outputs": [
    {
     "data": {
      "text/html": [
       "<style>#sk-container-id-3 {color: black;background-color: white;}#sk-container-id-3 pre{padding: 0;}#sk-container-id-3 div.sk-toggleable {background-color: white;}#sk-container-id-3 label.sk-toggleable__label {cursor: pointer;display: block;width: 100%;margin-bottom: 0;padding: 0.3em;box-sizing: border-box;text-align: center;}#sk-container-id-3 label.sk-toggleable__label-arrow:before {content: \"▸\";float: left;margin-right: 0.25em;color: #696969;}#sk-container-id-3 label.sk-toggleable__label-arrow:hover:before {color: black;}#sk-container-id-3 div.sk-estimator:hover label.sk-toggleable__label-arrow:before {color: black;}#sk-container-id-3 div.sk-toggleable__content {max-height: 0;max-width: 0;overflow: hidden;text-align: left;background-color: #f0f8ff;}#sk-container-id-3 div.sk-toggleable__content pre {margin: 0.2em;color: black;border-radius: 0.25em;background-color: #f0f8ff;}#sk-container-id-3 input.sk-toggleable__control:checked~div.sk-toggleable__content {max-height: 200px;max-width: 100%;overflow: auto;}#sk-container-id-3 input.sk-toggleable__control:checked~label.sk-toggleable__label-arrow:before {content: \"▾\";}#sk-container-id-3 div.sk-estimator input.sk-toggleable__control:checked~label.sk-toggleable__label {background-color: #d4ebff;}#sk-container-id-3 div.sk-label input.sk-toggleable__control:checked~label.sk-toggleable__label {background-color: #d4ebff;}#sk-container-id-3 input.sk-hidden--visually {border: 0;clip: rect(1px 1px 1px 1px);clip: rect(1px, 1px, 1px, 1px);height: 1px;margin: -1px;overflow: hidden;padding: 0;position: absolute;width: 1px;}#sk-container-id-3 div.sk-estimator {font-family: monospace;background-color: #f0f8ff;border: 1px dotted black;border-radius: 0.25em;box-sizing: border-box;margin-bottom: 0.5em;}#sk-container-id-3 div.sk-estimator:hover {background-color: #d4ebff;}#sk-container-id-3 div.sk-parallel-item::after {content: \"\";width: 100%;border-bottom: 1px solid gray;flex-grow: 1;}#sk-container-id-3 div.sk-label:hover label.sk-toggleable__label {background-color: #d4ebff;}#sk-container-id-3 div.sk-serial::before {content: \"\";position: absolute;border-left: 1px solid gray;box-sizing: border-box;top: 0;bottom: 0;left: 50%;z-index: 0;}#sk-container-id-3 div.sk-serial {display: flex;flex-direction: column;align-items: center;background-color: white;padding-right: 0.2em;padding-left: 0.2em;position: relative;}#sk-container-id-3 div.sk-item {position: relative;z-index: 1;}#sk-container-id-3 div.sk-parallel {display: flex;align-items: stretch;justify-content: center;background-color: white;position: relative;}#sk-container-id-3 div.sk-item::before, #sk-container-id-3 div.sk-parallel-item::before {content: \"\";position: absolute;border-left: 1px solid gray;box-sizing: border-box;top: 0;bottom: 0;left: 50%;z-index: -1;}#sk-container-id-3 div.sk-parallel-item {display: flex;flex-direction: column;z-index: 1;position: relative;background-color: white;}#sk-container-id-3 div.sk-parallel-item:first-child::after {align-self: flex-end;width: 50%;}#sk-container-id-3 div.sk-parallel-item:last-child::after {align-self: flex-start;width: 50%;}#sk-container-id-3 div.sk-parallel-item:only-child::after {width: 0;}#sk-container-id-3 div.sk-dashed-wrapped {border: 1px dashed gray;margin: 0 0.4em 0.5em 0.4em;box-sizing: border-box;padding-bottom: 0.4em;background-color: white;}#sk-container-id-3 div.sk-label label {font-family: monospace;font-weight: bold;display: inline-block;line-height: 1.2em;}#sk-container-id-3 div.sk-label-container {text-align: center;}#sk-container-id-3 div.sk-container {/* jupyter's `normalize.less` sets `[hidden] { display: none; }` but bootstrap.min.css set `[hidden] { display: none !important; }` so we also need the `!important` here to be able to override the default hidden behavior on the sphinx rendered scikit-learn.org. See: https://github.com/scikit-learn/scikit-learn/issues/21755 */display: inline-block !important;position: relative;}#sk-container-id-3 div.sk-text-repr-fallback {display: none;}</style><div id=\"sk-container-id-3\" class=\"sk-top-container\"><div class=\"sk-text-repr-fallback\"><pre>DecisionTreeClassifier(criterion=&#x27;entropy&#x27;, random_state=42)</pre><b>In a Jupyter environment, please rerun this cell to show the HTML representation or trust the notebook. <br />On GitHub, the HTML representation is unable to render, please try loading this page with nbviewer.org.</b></div><div class=\"sk-container\" hidden><div class=\"sk-item\"><div class=\"sk-estimator sk-toggleable\"><input class=\"sk-toggleable__control sk-hidden--visually\" id=\"sk-estimator-id-3\" type=\"checkbox\" checked><label for=\"sk-estimator-id-3\" class=\"sk-toggleable__label sk-toggleable__label-arrow\">DecisionTreeClassifier</label><div class=\"sk-toggleable__content\"><pre>DecisionTreeClassifier(criterion=&#x27;entropy&#x27;, random_state=42)</pre></div></div></div></div></div>"
      ],
      "text/plain": [
       "DecisionTreeClassifier(criterion='entropy', random_state=42)"
      ]
     },
     "execution_count": 33,
     "metadata": {},
     "output_type": "execute_result"
    }
   ],
   "source": [
    "dtcE = DecisionTreeClassifier(random_state=42, criterion='entropy')\n",
    "dtcE.fit(X_train, y_train)"
   ]
  },
  {
   "cell_type": "code",
   "execution_count": 34,
   "metadata": {},
   "outputs": [
    {
     "name": "stdout",
     "output_type": "stream",
     "text": [
      "              precision    recall  f1-score   support\n",
      "\n",
      "           0       0.91      0.96      0.93       190\n",
      "           1       0.95      0.88      0.91       167\n",
      "           2       0.93      0.94      0.94       168\n",
      "\n",
      "    accuracy                           0.93       525\n",
      "   macro avg       0.93      0.93      0.93       525\n",
      "weighted avg       0.93      0.93      0.93       525\n",
      "\n"
     ]
    }
   ],
   "source": [
    "print(classification_report(y_train, dtcE.predict(X_train)))"
   ]
  },
  {
   "cell_type": "code",
   "execution_count": 35,
   "metadata": {},
   "outputs": [
    {
     "name": "stdout",
     "output_type": "stream",
     "text": [
      "              precision    recall  f1-score   support\n",
      "\n",
      "           0       0.69      0.93      0.79        29\n",
      "           1       0.93      0.81      0.87        52\n",
      "           2       0.96      0.90      0.93        51\n",
      "\n",
      "    accuracy                           0.87       132\n",
      "   macro avg       0.86      0.88      0.86       132\n",
      "weighted avg       0.89      0.87      0.87       132\n",
      "\n"
     ]
    }
   ],
   "source": [
    "print(classification_report(y_test, dtcE.predict(X_test)))"
   ]
  },
  {
   "cell_type": "code",
   "execution_count": 36,
   "metadata": {},
   "outputs": [
    {
     "data": {
      "text/plain": [
       "[<matplotlib.lines.Line2D at 0x1c1a9a0d810>]"
      ]
     },
     "execution_count": 36,
     "metadata": {},
     "output_type": "execute_result"
    },
    {
     "data": {
      "image/png": "[encoded data removed]",
      "text/plain": [
       "<Figure size 640x480 with 1 Axes>"
      ]
     },
     "metadata": {},
     "output_type": "display_data"
    }
   ],
   "source": [
    "acc_train = []\n",
    "acc_test = []\n",
    "\n",
    "for i in range(1, 21):\n",
    "    dtc = DecisionTreeClassifier(random_state=42, max_depth=i, criterion='entropy')\n",
    "    dtc.fit(X_train, y_train)\n",
    "    acc_train.append(accuracy_score(y_train, dtc.predict(X_train)))\n",
    "    acc_test.append(accuracy_score(y_test, dtc.predict(X_test)))\n",
    "\n",
    "plt.plot(range(1, 21), acc_train, label='Train Accuracy')\n",
    "plt.plot(range(1, 21), acc_test, label='Test Accuracy')"
   ]
  },
  {
   "cell_type": "code",
   "execution_count": 37,
   "metadata": {},
   "outputs": [
    {
     "data": {
      "text/plain": [
       "6"
      ]
     },
     "execution_count": 37,
     "metadata": {},
     "output_type": "execute_result"
    }
   ],
   "source": [
    "# Get the best depth\n",
    "best_depth = acc_test.index(max(acc_test)) + 1\n",
    "best_depth"
   ]
  },
  {
   "cell_type": "code",
   "execution_count": 38,
   "metadata": {},
   "outputs": [
    {
     "data": {
      "text/plain": [
       "9"
      ]
     },
     "execution_count": 38,
     "metadata": {},
     "output_type": "execute_result"
    }
   ],
   "source": [
    "acc_train.index(max(acc_train)) + 1"
   ]
  },
  {
   "cell_type": "markdown",
   "metadata": {},
   "source": [
    "### Log Loss"
   ]
  },
  {
   "cell_type": "code",
   "execution_count": 39,
   "metadata": {},
   "outputs": [
    {
     "data": {
      "text/html": [
       "<style>#sk-container-id-4 {color: black;background-color: white;}#sk-container-id-4 pre{padding: 0;}#sk-container-id-4 div.sk-toggleable {background-color: white;}#sk-container-id-4 label.sk-toggleable__label {cursor: pointer;display: block;width: 100%;margin-bottom: 0;padding: 0.3em;box-sizing: border-box;text-align: center;}#sk-container-id-4 label.sk-toggleable__label-arrow:before {content: \"▸\";float: left;margin-right: 0.25em;color: #696969;}#sk-container-id-4 label.sk-toggleable__label-arrow:hover:before {color: black;}#sk-container-id-4 div.sk-estimator:hover label.sk-toggleable__label-arrow:before {color: black;}#sk-container-id-4 div.sk-toggleable__content {max-height: 0;max-width: 0;overflow: hidden;text-align: left;background-color: #f0f8ff;}#sk-container-id-4 div.sk-toggleable__content pre {margin: 0.2em;color: black;border-radius: 0.25em;background-color: #f0f8ff;}#sk-container-id-4 input.sk-toggleable__control:checked~div.sk-toggleable__content {max-height: 200px;max-width: 100%;overflow: auto;}#sk-container-id-4 input.sk-toggleable__control:checked~label.sk-toggleable__label-arrow:before {content: \"▾\";}#sk-container-id-4 div.sk-estimator input.sk-toggleable__control:checked~label.sk-toggleable__label {background-color: #d4ebff;}#sk-container-id-4 div.sk-label input.sk-toggleable__control:checked~label.sk-toggleable__label {background-color: #d4ebff;}#sk-container-id-4 input.sk-hidden--visually {border: 0;clip: rect(1px 1px 1px 1px);clip: rect(1px, 1px, 1px, 1px);height: 1px;margin: -1px;overflow: hidden;padding: 0;position: absolute;width: 1px;}#sk-container-id-4 div.sk-estimator {font-family: monospace;background-color: #f0f8ff;border: 1px dotted black;border-radius: 0.25em;box-sizing: border-box;margin-bottom: 0.5em;}#sk-container-id-4 div.sk-estimator:hover {background-color: #d4ebff;}#sk-container-id-4 div.sk-parallel-item::after {content: \"\";width: 100%;border-bottom: 1px solid gray;flex-grow: 1;}#sk-container-id-4 div.sk-label:hover label.sk-toggleable__label {background-color: #d4ebff;}#sk-container-id-4 div.sk-serial::before {content: \"\";position: absolute;border-left: 1px solid gray;box-sizing: border-box;top: 0;bottom: 0;left: 50%;z-index: 0;}#sk-container-id-4 div.sk-serial {display: flex;flex-direction: column;align-items: center;background-color: white;padding-right: 0.2em;padding-left: 0.2em;position: relative;}#sk-container-id-4 div.sk-item {position: relative;z-index: 1;}#sk-container-id-4 div.sk-parallel {display: flex;align-items: stretch;justify-content: center;background-color: white;position: relative;}#sk-container-id-4 div.sk-item::before, #sk-container-id-4 div.sk-parallel-item::before {content: \"\";position: absolute;border-left: 1px solid gray;box-sizing: border-box;top: 0;bottom: 0;left: 50%;z-index: -1;}#sk-container-id-4 div.sk-parallel-item {display: flex;flex-direction: column;z-index: 1;position: relative;background-color: white;}#sk-container-id-4 div.sk-parallel-item:first-child::after {align-self: flex-end;width: 50%;}#sk-container-id-4 div.sk-parallel-item:last-child::after {align-self: flex-start;width: 50%;}#sk-container-id-4 div.sk-parallel-item:only-child::after {width: 0;}#sk-container-id-4 div.sk-dashed-wrapped {border: 1px dashed gray;margin: 0 0.4em 0.5em 0.4em;box-sizing: border-box;padding-bottom: 0.4em;background-color: white;}#sk-container-id-4 div.sk-label label {font-family: monospace;font-weight: bold;display: inline-block;line-height: 1.2em;}#sk-container-id-4 div.sk-label-container {text-align: center;}#sk-container-id-4 div.sk-container {/* jupyter's `normalize.less` sets `[hidden] { display: none; }` but bootstrap.min.css set `[hidden] { display: none !important; }` so we also need the `!important` here to be able to override the default hidden behavior on the sphinx rendered scikit-learn.org. See: https://github.com/scikit-learn/scikit-learn/issues/21755 */display: inline-block !important;position: relative;}#sk-container-id-4 div.sk-text-repr-fallback {display: none;}</style><div id=\"sk-container-id-4\" class=\"sk-top-container\"><div class=\"sk-text-repr-fallback\"><pre>DecisionTreeClassifier(criterion=&#x27;log_loss&#x27;, random_state=42)</pre><b>In a Jupyter environment, please rerun this cell to show the HTML representation or trust the notebook. <br />On GitHub, the HTML representation is unable to render, please try loading this page with nbviewer.org.</b></div><div class=\"sk-container\" hidden><div class=\"sk-item\"><div class=\"sk-estimator sk-toggleable\"><input class=\"sk-toggleable__control sk-hidden--visually\" id=\"sk-estimator-id-4\" type=\"checkbox\" checked><label for=\"sk-estimator-id-4\" class=\"sk-toggleable__label sk-toggleable__label-arrow\">DecisionTreeClassifier</label><div class=\"sk-toggleable__content\"><pre>DecisionTreeClassifier(criterion=&#x27;log_loss&#x27;, random_state=42)</pre></div></div></div></div></div>"
      ],
      "text/plain": [
       "DecisionTreeClassifier(criterion='log_loss', random_state=42)"
      ]
     },
     "execution_count": 39,
     "metadata": {},
     "output_type": "execute_result"
    }
   ],
   "source": [
    "dtcL = DecisionTreeClassifier(random_state=42, criterion='log_loss')\n",
    "dtcL.fit(X_train, y_train)"
   ]
  },
  {
   "cell_type": "code",
   "execution_count": 40,
   "metadata": {},
   "outputs": [
    {
     "name": "stdout",
     "output_type": "stream",
     "text": [
      "              precision    recall  f1-score   support\n",
      "\n",
      "           0       0.91      0.96      0.93       190\n",
      "           1       0.95      0.88      0.91       167\n",
      "           2       0.93      0.94      0.94       168\n",
      "\n",
      "    accuracy                           0.93       525\n",
      "   macro avg       0.93      0.93      0.93       525\n",
      "weighted avg       0.93      0.93      0.93       525\n",
      "\n"
     ]
    }
   ],
   "source": [
    "print(classification_report(y_train, dtcL.predict(X_train)))"
   ]
  },
  {
   "cell_type": "code",
   "execution_count": 41,
   "metadata": {},
   "outputs": [
    {
     "name": "stdout",
     "output_type": "stream",
     "text": [
      "              precision    recall  f1-score   support\n",
      "\n",
      "           0       0.69      0.93      0.79        29\n",
      "           1       0.93      0.81      0.87        52\n",
      "           2       0.96      0.90      0.93        51\n",
      "\n",
      "    accuracy                           0.87       132\n",
      "   macro avg       0.86      0.88      0.86       132\n",
      "weighted avg       0.89      0.87      0.87       132\n",
      "\n"
     ]
    }
   ],
   "source": [
    "print(classification_report(y_test, dtcL.predict(X_test)))"
   ]
  },
  {
   "cell_type": "code",
   "execution_count": 42,
   "metadata": {},
   "outputs": [
    {
     "data": {
      "text/plain": [
       "[<matplotlib.lines.Line2D at 0x1c1a8bbb690>]"
      ]
     },
     "execution_count": 42,
     "metadata": {},
     "output_type": "execute_result"
    },
    {
     "data": {
      "image/png": "[encoded data removed]",
      "text/plain": [
       "<Figure size 640x480 with 1 Axes>"
      ]
     },
     "metadata": {},
     "output_type": "display_data"
    }
   ],
   "source": [
    "acc_train = []\n",
    "acc_test = []\n",
    "\n",
    "for i in range(1, 21):\n",
    "    dtc = DecisionTreeClassifier(random_state=42, max_depth=i, criterion='log_loss')\n",
    "    dtc.fit(X_train, y_train)\n",
    "    acc_train.append(accuracy_score(y_train, dtc.predict(X_train)))\n",
    "    acc_test.append(accuracy_score(y_test, dtc.predict(X_test)))\n",
    "\n",
    "plt.plot(range(1, 21), acc_train, label='Train Accuracy')\n",
    "plt.plot(range(1, 21), acc_test, label='Test Accuracy')"
   ]
  },
  {
   "cell_type": "code",
   "execution_count": 43,
   "metadata": {},
   "outputs": [
    {
     "data": {
      "text/plain": [
       "6"
      ]
     },
     "execution_count": 43,
     "metadata": {},
     "output_type": "execute_result"
    }
   ],
   "source": [
    "# Get the best depth\n",
    "best_depth = acc_test.index(max(acc_test)) + 1\n",
    "best_depth"
   ]
  },
  {
   "cell_type": "code",
   "execution_count": 44,
   "metadata": {},
   "outputs": [
    {
     "data": {
      "text/plain": [
       "9"
      ]
     },
     "execution_count": 44,
     "metadata": {},
     "output_type": "execute_result"
    }
   ],
   "source": [
    "acc_train.index(max(acc_train)) + 1"
   ]
  },
  {
   "cell_type": "markdown",
   "metadata": {},
   "source": [
    "# AdaBoost"
   ]
  },
  {
   "cell_type": "code",
   "execution_count": 45,
   "metadata": {},
   "outputs": [],
   "source": [
    "from sklearn.ensemble import AdaBoostClassifier"
   ]
  },
  {
   "cell_type": "code",
   "execution_count": 46,
   "metadata": {},
   "outputs": [],
   "source": [
    "abc = AdaBoostClassifier(base_estimator=dtcG, random_state=42)"
   ]
  },
  {
   "cell_type": "code",
   "execution_count": 47,
   "metadata": {},
   "outputs": [
    {
     "data": {
      "text/html": [
       "<style>#sk-container-id-5 {color: black;background-color: white;}#sk-container-id-5 pre{padding: 0;}#sk-container-id-5 div.sk-toggleable {background-color: white;}#sk-container-id-5 label.sk-toggleable__label {cursor: pointer;display: block;width: 100%;margin-bottom: 0;padding: 0.3em;box-sizing: border-box;text-align: center;}#sk-container-id-5 label.sk-toggleable__label-arrow:before {content: \"▸\";float: left;margin-right: 0.25em;color: #696969;}#sk-container-id-5 label.sk-toggleable__label-arrow:hover:before {color: black;}#sk-container-id-5 div.sk-estimator:hover label.sk-toggleable__label-arrow:before {color: black;}#sk-container-id-5 div.sk-toggleable__content {max-height: 0;max-width: 0;overflow: hidden;text-align: left;background-color: #f0f8ff;}#sk-container-id-5 div.sk-toggleable__content pre {margin: 0.2em;color: black;border-radius: 0.25em;background-color: #f0f8ff;}#sk-container-id-5 input.sk-toggleable__control:checked~div.sk-toggleable__content {max-height: 200px;max-width: 100%;overflow: auto;}#sk-container-id-5 input.sk-toggleable__control:checked~label.sk-toggleable__label-arrow:before {content: \"▾\";}#sk-container-id-5 div.sk-estimator input.sk-toggleable__control:checked~label.sk-toggleable__label {background-color: #d4ebff;}#sk-container-id-5 div.sk-label input.sk-toggleable__control:checked~label.sk-toggleable__label {background-color: #d4ebff;}#sk-container-id-5 input.sk-hidden--visually {border: 0;clip: rect(1px 1px 1px 1px);clip: rect(1px, 1px, 1px, 1px);height: 1px;margin: -1px;overflow: hidden;padding: 0;position: absolute;width: 1px;}#sk-container-id-5 div.sk-estimator {font-family: monospace;background-color: #f0f8ff;border: 1px dotted black;border-radius: 0.25em;box-sizing: border-box;margin-bottom: 0.5em;}#sk-container-id-5 div.sk-estimator:hover {background-color: #d4ebff;}#sk-container-id-5 div.sk-parallel-item::after {content: \"\";width: 100%;border-bottom: 1px solid gray;flex-grow: 1;}#sk-container-id-5 div.sk-label:hover label.sk-toggleable__label {background-color: #d4ebff;}#sk-container-id-5 div.sk-serial::before {content: \"\";position: absolute;border-left: 1px solid gray;box-sizing: border-box;top: 0;bottom: 0;left: 50%;z-index: 0;}#sk-container-id-5 div.sk-serial {display: flex;flex-direction: column;align-items: center;background-color: white;padding-right: 0.2em;padding-left: 0.2em;position: relative;}#sk-container-id-5 div.sk-item {position: relative;z-index: 1;}#sk-container-id-5 div.sk-parallel {display: flex;align-items: stretch;justify-content: center;background-color: white;position: relative;}#sk-container-id-5 div.sk-item::before, #sk-container-id-5 div.sk-parallel-item::before {content: \"\";position: absolute;border-left: 1px solid gray;box-sizing: border-box;top: 0;bottom: 0;left: 50%;z-index: -1;}#sk-container-id-5 div.sk-parallel-item {display: flex;flex-direction: column;z-index: 1;position: relative;background-color: white;}#sk-container-id-5 div.sk-parallel-item:first-child::after {align-self: flex-end;width: 50%;}#sk-container-id-5 div.sk-parallel-item:last-child::after {align-self: flex-start;width: 50%;}#sk-container-id-5 div.sk-parallel-item:only-child::after {width: 0;}#sk-container-id-5 div.sk-dashed-wrapped {border: 1px dashed gray;margin: 0 0.4em 0.5em 0.4em;box-sizing: border-box;padding-bottom: 0.4em;background-color: white;}#sk-container-id-5 div.sk-label label {font-family: monospace;font-weight: bold;display: inline-block;line-height: 1.2em;}#sk-container-id-5 div.sk-label-container {text-align: center;}#sk-container-id-5 div.sk-container {/* jupyter's `normalize.less` sets `[hidden] { display: none; }` but bootstrap.min.css set `[hidden] { display: none !important; }` so we also need the `!important` here to be able to override the default hidden behavior on the sphinx rendered scikit-learn.org. See: https://github.com/scikit-learn/scikit-learn/issues/21755 */display: inline-block !important;position: relative;}#sk-container-id-5 div.sk-text-repr-fallback {display: none;}</style><div id=\"sk-container-id-5\" class=\"sk-top-container\"><div class=\"sk-text-repr-fallback\"><pre>AdaBoostClassifier(base_estimator=DecisionTreeClassifier(random_state=42),\n",
       "                   random_state=42)</pre><b>In a Jupyter environment, please rerun this cell to show the HTML representation or trust the notebook. <br />On GitHub, the HTML representation is unable to render, please try loading this page with nbviewer.org.</b></div><div class=\"sk-container\" hidden><div class=\"sk-item sk-dashed-wrapped\"><div class=\"sk-label-container\"><div class=\"sk-label sk-toggleable\"><input class=\"sk-toggleable__control sk-hidden--visually\" id=\"sk-estimator-id-5\" type=\"checkbox\" ><label for=\"sk-estimator-id-5\" class=\"sk-toggleable__label sk-toggleable__label-arrow\">AdaBoostClassifier</label><div class=\"sk-toggleable__content\"><pre>AdaBoostClassifier(base_estimator=DecisionTreeClassifier(random_state=42),\n",
       "                   random_state=42)</pre></div></div></div><div class=\"sk-parallel\"><div class=\"sk-parallel-item\"><div class=\"sk-item\"><div class=\"sk-label-container\"><div class=\"sk-label sk-toggleable\"><input class=\"sk-toggleable__control sk-hidden--visually\" id=\"sk-estimator-id-6\" type=\"checkbox\" ><label for=\"sk-estimator-id-6\" class=\"sk-toggleable__label sk-toggleable__label-arrow\">base_estimator: DecisionTreeClassifier</label><div class=\"sk-toggleable__content\"><pre>DecisionTreeClassifier(random_state=42)</pre></div></div></div><div class=\"sk-serial\"><div class=\"sk-item\"><div class=\"sk-estimator sk-toggleable\"><input class=\"sk-toggleable__control sk-hidden--visually\" id=\"sk-estimator-id-7\" type=\"checkbox\" ><label for=\"sk-estimator-id-7\" class=\"sk-toggleable__label sk-toggleable__label-arrow\">DecisionTreeClassifier</label><div class=\"sk-toggleable__content\"><pre>DecisionTreeClassifier(random_state=42)</pre></div></div></div></div></div></div></div></div></div></div>"
      ],
      "text/plain": [
       "AdaBoostClassifier(base_estimator=DecisionTreeClassifier(random_state=42),\n",
       "                   random_state=42)"
      ]
     },
     "execution_count": 47,
     "metadata": {},
     "output_type": "execute_result"
    }
   ],
   "source": [
    "abc.fit(X_train, y_train)"
   ]
  },
  {
   "cell_type": "code",
   "execution_count": 48,
   "metadata": {},
   "outputs": [
    {
     "name": "stdout",
     "output_type": "stream",
     "text": [
      "              precision    recall  f1-score   support\n",
      "\n",
      "           0       0.92      0.94      0.93       190\n",
      "           1       0.93      0.90      0.92       167\n",
      "           2       0.93      0.94      0.94       168\n",
      "\n",
      "    accuracy                           0.93       525\n",
      "   macro avg       0.93      0.93      0.93       525\n",
      "weighted avg       0.93      0.93      0.93       525\n",
      "\n"
     ]
    }
   ],
   "source": [
    "print(classification_report(y_train, abc.predict(X_train)))"
   ]
  },
  {
   "cell_type": "code",
   "execution_count": 49,
   "metadata": {},
   "outputs": [
    {
     "name": "stdout",
     "output_type": "stream",
     "text": [
      "              precision    recall  f1-score   support\n",
      "\n",
      "           0       0.73      0.83      0.77        29\n",
      "           1       0.90      0.87      0.88        52\n",
      "           2       0.94      0.90      0.92        51\n",
      "\n",
      "    accuracy                           0.87       132\n",
      "   macro avg       0.86      0.86      0.86       132\n",
      "weighted avg       0.88      0.87      0.87       132\n",
      "\n"
     ]
    }
   ],
   "source": [
    "print(classification_report(y_test, abc.predict(X_test)))"
   ]
  },
  {
   "cell_type": "code",
   "execution_count": 50,
   "metadata": {},
   "outputs": [
    {
     "name": "stdout",
     "output_type": "stream",
     "text": [
      "Accuracy for 50 estimators: 0.8939393939393939\n",
      "Accuracy for 75 estimators: 0.8939393939393939\n",
      "Accuracy for 100 estimators: 0.8939393939393939\n",
      "Accuracy for 125 estimators: 0.8939393939393939\n",
      "Accuracy for 150 estimators: 0.8939393939393939\n",
      "Accuracy for 175 estimators: 0.8939393939393939\n",
      "Accuracy for 200 estimators: 0.8939393939393939\n",
      "Accuracy for 225 estimators: 0.8939393939393939\n",
      "Accuracy for 250 estimators: 0.8939393939393939\n",
      "Accuracy for 275 estimators: 0.8939393939393939\n",
      "Accuracy for 300 estimators: 0.8939393939393939\n",
      "Accuracy for 325 estimators: 0.8939393939393939\n",
      "Accuracy for 350 estimators: 0.8939393939393939\n",
      "Accuracy for 375 estimators: 0.8939393939393939\n",
      "Accuracy for 400 estimators: 0.8939393939393939\n",
      "Accuracy for 425 estimators: 0.8939393939393939\n",
      "Accuracy for 450 estimators: 0.8939393939393939\n",
      "Accuracy for 475 estimators: 0.8939393939393939\n"
     ]
    }
   ],
   "source": [
    "acc_train = []\n",
    "acc_test = []\n",
    "for i in range(50, 500, 25):\n",
    "    abc = AdaBoostClassifier(base_estimator=dtcG5, n_estimators=i, random_state=42)\n",
    "    abc.fit(X_train, y_train)\n",
    "    print(f'Accuracy for {i} estimators: {accuracy_score(y_test, abc.predict(X_test))}')\n",
    "    acc_train.append(accuracy_score(y_train, abc.predict(X_train)))\n",
    "    acc_test.append(accuracy_score(y_test, abc.predict(X_test)))\n"
   ]
  },
  {
   "cell_type": "code",
   "execution_count": 51,
   "metadata": {},
   "outputs": [
    {
     "data": {
      "text/plain": [
       "[<matplotlib.lines.Line2D at 0x1c1a972c3d0>]"
      ]
     },
     "execution_count": 51,
     "metadata": {},
     "output_type": "execute_result"
    },
    {
     "data": {
      "image/png": "[encoded data removed]",
      "text/plain": [
       "<Figure size 640x480 with 1 Axes>"
      ]
     },
     "metadata": {},
     "output_type": "display_data"
    }
   ],
   "source": [
    "plt.plot(range(50, 500, 25), acc_train, label='Train Accuracy')\n",
    "plt.plot(range(50, 500, 25), acc_test, label='Test Accuracy')"
   ]
  },
  {
   "cell_type": "code",
   "execution_count": 52,
   "metadata": {},
   "outputs": [
    {
     "data": {
      "text/plain": [
       "(1, 1)"
      ]
     },
     "execution_count": 52,
     "metadata": {},
     "output_type": "execute_result"
    }
   ],
   "source": [
    "acc_train.index(max(acc_train)) + 1, acc_test.index(max(acc_test)) + 1"
   ]
  },
  {
   "cell_type": "code",
   "execution_count": 53,
   "metadata": {},
   "outputs": [],
   "source": [
    "pickle.dump(abc, open('abcmodel.pkl', 'wb'))"
   ]
  }
 ],
 "metadata": {
  "kernelspec": {
   "display_name": "Python 3",
   "language": "python",
   "name": "python3"
  },
  "language_info": {
   "codemirror_mode": {
    "name": "ipython",
    "version": 3
   },
   "file_extension": ".py",
   "mimetype": "text/x-python",
   "name": "python",
   "nbconvert_exporter": "python",
   "pygments_lexer": "ipython3",
   "version": "3.11.1"
  }
 },
 "nbformat": 4,
 "nbformat_minor": 2
}
